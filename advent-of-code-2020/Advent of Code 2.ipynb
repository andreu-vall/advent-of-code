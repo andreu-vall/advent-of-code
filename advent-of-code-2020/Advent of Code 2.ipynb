{
 "cells": [
  {
   "cell_type": "code",
   "execution_count": 23,
   "metadata": {},
   "outputs": [
    {
     "data": {
      "text/plain": [
       "2059"
      ]
     },
     "execution_count": 23,
     "metadata": {},
     "output_type": "execute_result"
    }
   ],
   "source": [
    "with open(\"input/p11.txt\") as file:\n",
    "    rows = [list(line) for line in file.read().splitlines()]\n",
    "\n",
    "changed, to_change = True, []\n",
    "while changed:\n",
    "    for row, col, new in to_change:\n",
    "        rows[row][col] = new\n",
    "    to_change = []\n",
    "    for i in range(len(rows)):\n",
    "        for j in range(len(rows[0])):\n",
    "            if rows[i][j] == '.':\n",
    "                continue\n",
    "            ocupats = 0\n",
    "            for x, y in [(-1,-1),(-1,0),(-1,1),(0,-1),(0,1),(1,-1),(1,0),(1,1)]:\n",
    "                row, col = i+x, j+y\n",
    "                while row in range(len(rows)) and col in range(len(rows[0])):\n",
    "                    if rows[row][col]=='#':\n",
    "                        ocupats += 1\n",
    "                        break\n",
    "                    if rows[row][col]=='L':\n",
    "                        break\n",
    "                    row, col = row+x, col+y\n",
    "            if rows[i][j]=='L' and ocupats==0:\n",
    "                to_change.append((i, j, '#'))\n",
    "            if rows[i][j]=='#' and ocupats>=5:\n",
    "                to_change.append((i, j, 'L'))\n",
    "    changed = bool(to_change)\n",
    "                \n",
    "counter = 0\n",
    "for row in rows:\n",
    "    for sit in row:\n",
    "        if sit=='#':\n",
    "            counter += 1\n",
    "\n",
    "counter"
   ]
  },
  {
   "cell_type": "code",
   "execution_count": 23,
   "metadata": {},
   "outputs": [
    {
     "name": "stdout",
     "output_type": "stream",
     "text": [
      "71504\n"
     ]
    }
   ],
   "source": [
    "with open(\"input/p12.txt\") as f:\n",
    "    lines = f.read().splitlines()\n",
    "\n",
    "x, y = 0, 0\n",
    "wx, wy = 10, 1\n",
    "\n",
    "for line in lines:\n",
    "    a, v = line[0], int(line[1:])\n",
    "    if a=='N':\n",
    "        wy += v\n",
    "    if a=='S':\n",
    "        wy -= v\n",
    "    if a=='E':\n",
    "        wx += v\n",
    "    if a=='W':\n",
    "        wx -= v\n",
    "    if line==\"L90\" or line==\"R270\":\n",
    "        wx, wy = -wy, wx\n",
    "    if line==\"L180\" or line==\"R180\":\n",
    "        wx, wy = -wx, -wy\n",
    "    if line==\"L270\" or line==\"R90\":\n",
    "        wx, wy = wy, -wx\n",
    "    if a=='F':\n",
    "        x += v*wx\n",
    "        y += v*wy\n",
    "\n",
    "print(abs(x) + abs(y))"
   ]
  },
  {
   "cell_type": "code",
   "execution_count": 29,
   "metadata": {},
   "outputs": [
    {
     "data": {
      "text/plain": [
       "153"
      ]
     },
     "execution_count": 29,
     "metadata": {},
     "output_type": "execute_result"
    }
   ],
   "source": [
    "with open(\"input/p13.txt\") as f:\n",
    "    lines = f.read().splitlines()\n",
    "\n",
    "start = int(lines[0])\n",
    "buses = []\n",
    "for bus in lines[1].split(\",\"):\n",
    "    if bus != 'x':\n",
    "        buses.append(int(bus))\n",
    "\n",
    "minim = start\n",
    "minim_bus = None\n",
    "for bus in buses:\n",
    "    value = bus - start % bus\n",
    "    if value < minim:\n",
    "        minim = value\n",
    "        minim_bus = bus\n",
    "\n",
    "minim*minim_bus"
   ]
  },
  {
   "cell_type": "code",
   "execution_count": 30,
   "metadata": {},
   "outputs": [
    {
     "name": "stdout",
     "output_type": "stream",
     "text": [
      "471793476184394\n"
     ]
    }
   ],
   "source": [
    "from functools import reduce\n",
    "\n",
    "def chinese_remainder(n, a):\n",
    "    sum = 0\n",
    "    prod = reduce(lambda a, b: a*b, n)\n",
    "    for n_i, a_i in zip(n, a):\n",
    "        p = prod // n_i\n",
    "        sum += a_i * mul_inv(p, n_i) * p\n",
    "    return sum % prod\n",
    " \n",
    "def mul_inv(a, b):\n",
    "    b0 = b\n",
    "    x0, x1 = 0, 1\n",
    "    if b == 1: return 1\n",
    "    while a > 1:\n",
    "        q = a // b\n",
    "        a, b = b, a%b\n",
    "        x0, x1 = x1 - q * x0, x0\n",
    "    if x1 < 0: x1 += b0\n",
    "    return x1\n",
    "\n",
    "buses = list(lines[1].split(\",\"))\n",
    "n, a = [], []\n",
    "for i in range(len(buses)):\n",
    "    if buses[i] != 'x':\n",
    "        n.append(int(buses[i]))\n",
    "        a.append(-i)\n",
    "\n",
    "print(chinese_remainder(n, a))"
   ]
  },
  {
   "cell_type": "code",
   "execution_count": 27,
   "metadata": {},
   "outputs": [
    {
     "name": "stdout",
     "output_type": "stream",
     "text": [
      "10717676595607\n"
     ]
    }
   ],
   "source": [
    "with open (\"input/p14.txt\") as f:\n",
    "    lines = f.read().splitlines()\n",
    "\n",
    "mem = {}\n",
    "\n",
    "for line in lines:\n",
    "    if line.startswith(\"mask\"):\n",
    "        mask = line.split(\" \")[-1]\n",
    "    else:\n",
    "        pos = int(line.split(\"]\")[0][4:])\n",
    "        num = int(line.split(\" \")[-1])\n",
    "        b = list(bin(num)[2:])\n",
    "        b = ['0']*(len(mask)-len(b)) + b\n",
    "        for i in range(36):\n",
    "            if mask[i] != 'X':\n",
    "                b[i] = mask[i]\n",
    "        num = int(''.join(b), 2)\n",
    "        mem[pos] = num\n",
    "\n",
    "print(sum(mem.values()))"
   ]
  },
  {
   "cell_type": "code",
   "execution_count": 13,
   "metadata": {
    "scrolled": false
   },
   "outputs": [
    {
     "name": "stdout",
     "output_type": "stream",
     "text": [
      "3974538275659\n"
     ]
    }
   ],
   "source": [
    "with open (\"input/p14.txt\") as f:\n",
    "    lines = f.read().splitlines()\n",
    "\n",
    "mem = {}\n",
    "\n",
    "for line in lines:\n",
    "    if line.startswith(\"mask\"):\n",
    "        mask = line.split(\" \")[-1]\n",
    "        counter = mask.count('X')\n",
    "    else:\n",
    "        pos = int(line.split(\"]\")[0][4:])\n",
    "        num = int(line.split(\" \")[-1])\n",
    "        b = list(bin(pos)[2:])\n",
    "        b = ['0']*(len(mask)-len(b)) + b\n",
    "        for i in range(36):\n",
    "            if mask[i] == '1' or mask[i] == 'X':\n",
    "                b[i] = mask[i]\n",
    "        for i in range(2**counter):\n",
    "            c = bin(i)[2:].zfill(counter)\n",
    "            r = []\n",
    "            p = 0\n",
    "            for i in range(36):\n",
    "                if b[i] == 'X':\n",
    "                    r.append(c[p])\n",
    "                    p += 1\n",
    "                else:\n",
    "                    r.append(b[i])\n",
    "            mem[int(''.join(r), 2)] = num\n",
    "\n",
    "print(sum(mem.values()))"
   ]
  },
  {
   "cell_type": "code",
   "execution_count": 27,
   "metadata": {},
   "outputs": [
    {
     "data": {
      "text/plain": [
       "651639"
      ]
     },
     "execution_count": 27,
     "metadata": {},
     "output_type": "execute_result"
    }
   ],
   "source": [
    "numbers = [2,15,0,9,1]\n",
    "last_number = 20\n",
    "last_turn = {numbers[i]: i for i in range(len(numbers))}\n",
    "\n",
    "while len(numbers) < 30000000:\n",
    "    if last_number in last_turn:\n",
    "        pos = len(numbers)-last_turn[last_number]\n",
    "    else:\n",
    "        pos = 0\n",
    "    last_turn[last_number] = len(numbers)\n",
    "    numbers.append(last_number)\n",
    "    last_number = pos\n",
    "\n",
    "numbers[-1]"
   ]
  },
  {
   "cell_type": "code",
   "execution_count": 73,
   "metadata": {},
   "outputs": [
    {
     "data": {
      "text/plain": [
       "2628667251989"
      ]
     },
     "execution_count": 73,
     "metadata": {},
     "output_type": "execute_result"
    }
   ],
   "source": [
    "with open(\"input/p16.txt\") as f:\n",
    "    lines = f.read().splitlines()\n",
    "\n",
    "valid, index = {}, lines.index(\"\")\n",
    "for i in range(index):\n",
    "    name, cond = lines[i].split(\":\")\n",
    "    cond = [con.strip() for con in cond.split(\"or\")]\n",
    "    cond = [list(map(int, con.split(\"-\"))) for con in cond]\n",
    "    valid[name] = cond\n",
    "\n",
    "my_ticket = list(map(int, lines[index+2].split(\",\")))\n",
    "\n",
    "def is_valid(value, valid):\n",
    "    for cond in valid.values():\n",
    "        for con in cond:\n",
    "            if value in range(con[0], con[1]+1):\n",
    "                return True\n",
    "    return False\n",
    "\n",
    "remove = set()\n",
    "for i in range(index+5, len(lines)):\n",
    "    values = list(map(int, lines[i].split(\",\")))\n",
    "    for value in values:\n",
    "        if not is_valid(value, valid):\n",
    "            remove.add(i)\n",
    "\n",
    "valid_tickets = [list(map(int, lines[i].split(\",\"))) for i in range(index+5, len(lines)) if i not in remove]\n",
    "possible_col = [set() for i in range(len(valid))]\n",
    "\n",
    "def is_valid2(value, cond):\n",
    "    for con in cond:\n",
    "        if value in range(con[0], con[1]+1):\n",
    "            return True\n",
    "    return False\n",
    "\n",
    "for i in range(len(valid)):\n",
    "    for name in valid:\n",
    "        if all(is_valid2(valid_tickets[j][i], valid[name]) for j in range(len(valid_tickets))):\n",
    "            possible_col[i].add(name)\n",
    "\n",
    "actualitzat, sabem = True, {}\n",
    "\n",
    "while actualitzat:\n",
    "    actualitzat = False\n",
    "    for i in range(len(possible_col)):\n",
    "        if len(possible_col[i])==1 and next(iter(possible_col[i])) not in sabem:\n",
    "            sabut = next(iter(possible_col[i]))\n",
    "            sabem[i] = sabut\n",
    "            for s in possible_col:\n",
    "                if sabut in s:\n",
    "                    s.remove(sabut)\n",
    "            actualitzat = True\n",
    "\n",
    "producte = 1\n",
    "for key, value in sabem.items():\n",
    "    if value.startswith(\"departure\"):\n",
    "        producte *= my_ticket[key]\n",
    "\n",
    "producte"
   ]
  },
  {
   "cell_type": "code",
   "execution_count": 78,
   "metadata": {},
   "outputs": [
    {
     "data": {
      "text/plain": [
       "1892"
      ]
     },
     "execution_count": 78,
     "metadata": {},
     "output_type": "execute_result"
    }
   ],
   "source": [
    "import itertools\n",
    "\n",
    "with open(\"input/p17.txt\") as f:\n",
    "    mapa = f.read().splitlines()\n",
    "\n",
    "dim = 4\n",
    "\n",
    "cubs = {(0, 0, y-len(mapa)//2, x-len(mapa[y])//2) for y in range(len(mapa)) for x in range(len(mapa[y]))\n",
    "        if mapa[y][x]=='#'}\n",
    "\n",
    "for _ in range(6):\n",
    "    minims, maxims = [0]*dim, [0]*dim\n",
    "    for cub in cubs:\n",
    "        for i in range(len(cub)):\n",
    "            minims[i], maxims[i] = min(minims[i], cub[i]), max(maxims[i], cub[i])\n",
    "    \n",
    "    cubs_nous = set()\n",
    "    for cub in itertools.product(*(range(minims[i]-1, maxims[i]+2) for i in range(dim))):\n",
    "        quadrat = sum(cub2 in cubs for cub2 in itertools.product(*(range(cub[i]-1, cub[i]+2) for i in range(dim))))\n",
    "        if quadrat==3 or cub in cubs and quadrat==4:\n",
    "            cubs_nous.add(cub)\n",
    "    \n",
    "    cubs = cubs_nous\n",
    "\n",
    "len(cubs)"
   ]
  },
  {
   "cell_type": "code",
   "execution_count": 49,
   "metadata": {},
   "outputs": [
    {
     "data": {
      "text/plain": [
       "29839238838303"
      ]
     },
     "execution_count": 49,
     "metadata": {},
     "output_type": "execute_result"
    }
   ],
   "source": [
    "with open(\"input/p18.txt\") as file:\n",
    "    lines = [line.replace(\" \", \"\") for line in file.read().splitlines()]\n",
    "\n",
    "def opera(expr):\n",
    "    first = True\n",
    "    i = 0\n",
    "    while i < len(expr):\n",
    "        if expr[i] in \"+*\":\n",
    "            signe = expr[i]\n",
    "            i += 1\n",
    "            continue\n",
    "        if expr[i]==')':\n",
    "            i += 1\n",
    "            continue\n",
    "        if expr[i]=='(':\n",
    "            oberts, j = 1, i\n",
    "            while oberts > 0:\n",
    "                j += 1\n",
    "                if expr[j]=='(':\n",
    "                    oberts += 1\n",
    "                if expr[j]==')':\n",
    "                    oberts -= 1\n",
    "            value = opera(expr[i+1:j])\n",
    "            i = j+1\n",
    "        else:\n",
    "            value = int(expr[i])\n",
    "            i += 1\n",
    "        if first:\n",
    "            first = False\n",
    "            resultat = value\n",
    "        else:\n",
    "            if signe=='+':\n",
    "                resultat += value\n",
    "            else:\n",
    "                resultat *= value\n",
    "    return resultat\n",
    "\n",
    "suma = 0\n",
    "for line in lines:\n",
    "    suma += opera(line)\n",
    "\n",
    "suma"
   ]
  },
  {
   "cell_type": "code",
   "execution_count": 85,
   "metadata": {},
   "outputs": [
    {
     "data": {
      "text/plain": [
       "201376568795521"
      ]
     },
     "execution_count": 85,
     "metadata": {},
     "output_type": "execute_result"
    }
   ],
   "source": [
    "with open(\"input/p18.txt\") as file:\n",
    "    lines = [line.replace(\" \", \"\") for line in file.read().splitlines()]\n",
    "\n",
    "def opera(expr):\n",
    "    first, i = True, 0\n",
    "    while i < len(expr):\n",
    "        if expr[i]=='*':\n",
    "            return resultat * opera(expr[i+1:])\n",
    "        if expr[i] in \"+)\":\n",
    "            i += 1\n",
    "            continue\n",
    "        if expr[i]=='(':\n",
    "            oberts, j = 1, i\n",
    "            while oberts > 0:\n",
    "                j += 1\n",
    "                if expr[j]=='(':\n",
    "                    oberts += 1\n",
    "                if expr[j]==')':\n",
    "                    oberts -= 1\n",
    "            value = opera(expr[i+1:j])\n",
    "            i = j+1\n",
    "        else:\n",
    "            value = int(expr[i])\n",
    "            i += 1\n",
    "        if first:\n",
    "            first = False\n",
    "            resultat = value\n",
    "        else:\n",
    "            resultat += value\n",
    "    \n",
    "    return resultat\n",
    "\n",
    "suma = 0\n",
    "for line in lines:\n",
    "    suma += opera(line)\n",
    "\n",
    "suma"
   ]
  },
  {
   "cell_type": "code",
   "execution_count": 27,
   "metadata": {},
   "outputs": [
    {
     "data": {
      "text/plain": [
       "381"
      ]
     },
     "execution_count": 27,
     "metadata": {},
     "output_type": "execute_result"
    }
   ],
   "source": [
    "with open(\"input/p19.txt\") as file:\n",
    "    lines = file.read().splitlines()\n",
    "\n",
    "rules = {}\n",
    "for i in range(len(lines)):\n",
    "    if lines[i]==\"\":\n",
    "        start = i+1\n",
    "        break\n",
    "    rules[lines[i].split(\":\")[0]] = lines[i].split(\":\")[1][1:]\n",
    "\n",
    "rules[\"8\"] = \"42 | 42 8\"\n",
    "rules[\"11\"] = \"42 31 | 42 11 31\"\n",
    "\n",
    "def matches(line, rule_n, size=0):\n",
    "    rule = rules[rule_n]\n",
    "    if '\"' in rule:\n",
    "        return {1} if line and line[0]==rule.split('\"')[1] else set()\n",
    "    valids = set()\n",
    "    for cadena in rule.split(\"|\"):\n",
    "        follow, possibles = cadena.strip().split(\" \"), [{0}]\n",
    "        for i in range(len(follow)):\n",
    "            possibles.append({pos+value for pos in possibles[-1] for value in matches(line[pos:], follow[i])})\n",
    "        if size in possibles[-1]:\n",
    "            return True\n",
    "        valids.update(possibles[-1])\n",
    "    return valids if not size else False\n",
    "\n",
    "sum(matches(lines[i], '0', len(lines[i])) for i in range(start, len(lines)))"
   ]
  },
  {
   "cell_type": "code",
   "execution_count": 9,
   "metadata": {},
   "outputs": [
    {
     "data": {
      "text/plain": [
       "30780"
      ]
     },
     "execution_count": 9,
     "metadata": {},
     "output_type": "execute_result"
    }
   ],
   "source": [
    "from collections import deque\n",
    "\n",
    "with open(\"input/p22.txt\") as file:\n",
    "    lines = file.read().splitlines()\n",
    "\n",
    "player1, player2 = deque(), deque()\n",
    "\n",
    "for i in range(1, len(lines)):\n",
    "    if lines[i]=='':\n",
    "        player2_start = i+2\n",
    "        break\n",
    "    player1.append(int(lines[i]))\n",
    "\n",
    "for i in range(player2_start, len(lines)):\n",
    "    player2.append(int(lines[i]))\n",
    "\n",
    "while len(player1) and len(player2):\n",
    "    pl1, pl2 = player1.popleft(), player2.popleft()\n",
    "    if pl1 > pl2:\n",
    "        player1.extend([pl1, pl2])\n",
    "    else:\n",
    "        player2.extend([pl2, pl1])\n",
    "\n",
    "r = 0\n",
    "for i, num in enumerate(reversed(player1)):\n",
    "    r += num*(i+1)\n",
    "\n",
    "r"
   ]
  },
  {
   "cell_type": "code",
   "execution_count": 69,
   "metadata": {},
   "outputs": [
    {
     "data": {
      "text/plain": [
       "0"
      ]
     },
     "execution_count": 69,
     "metadata": {},
     "output_type": "execute_result"
    }
   ],
   "source": [
    "from collections import deque\n",
    "\n",
    "with open(\"input/p22.txt\") as file:\n",
    "    lines = file.read().splitlines()\n",
    "\n",
    "player1, player2 = deque(), deque()\n",
    "\n",
    "for i in range(1, len(lines)):\n",
    "    if lines[i]=='':\n",
    "        player2_start = i+2\n",
    "        break\n",
    "    player1.append(int(lines[i]))\n",
    "\n",
    "for i in range(player2_start, len(lines)):\n",
    "    player2.append(int(lines[i]))\n",
    "\n",
    "def recursive_game(player1, player2, pl1_before, pl2_before):\n",
    "    while len(player1) and len(player2):\n",
    "        tuple1, tuple2 = tuple(player1), tuple(player2)\n",
    "        if tuple1 in pl1_before and tuple2 in pl2_before:\n",
    "            return 0\n",
    "        pl1_before.add(tuple1)\n",
    "        pl2_before.add(tuple2)\n",
    "        pl1, pl2 = player1.popleft(), player2.popleft()\n",
    "        if len(player1) >= pl1 and len(player2) >= pl2:\n",
    "            winner = recursive_game(deque(list(player1)[:pl1]), deque(list(player2)[:pl2]), set(), set())\n",
    "        elif pl1 > pl2:\n",
    "            winner = 0\n",
    "        else:\n",
    "            winner = 1\n",
    "        if winner == 0:\n",
    "            player1.extend([pl1, pl2])\n",
    "        else:\n",
    "            player2.extend([pl2, pl1])\n",
    "    if len(player1):\n",
    "        return 0\n",
    "    return 1\n",
    "\n",
    "recursive_game(player1, player2, set(), set())"
   ]
  },
  {
   "cell_type": "code",
   "execution_count": 71,
   "metadata": {},
   "outputs": [
    {
     "data": {
      "text/plain": [
       "36621"
      ]
     },
     "execution_count": 71,
     "metadata": {},
     "output_type": "execute_result"
    }
   ],
   "source": [
    "r = 0\n",
    "for i, num in enumerate(reversed(player1)):\n",
    "    r += num*(i+1)\n",
    "\n",
    "r"
   ]
  },
  {
   "cell_type": "code",
   "execution_count": 20,
   "metadata": {},
   "outputs": [],
   "source": [
    "# 35997 too low"
   ]
  },
  {
   "cell_type": "code",
   "execution_count": 38,
   "metadata": {},
   "outputs": [
    {
     "data": {
      "text/plain": [
       "deque([7, 5, 6, 2, 10, 8, 9, 1, 3, 4])"
      ]
     },
     "execution_count": 38,
     "metadata": {},
     "output_type": "execute_result"
    }
   ],
   "source": [
    "player2"
   ]
  },
  {
   "cell_type": "code",
   "execution_count": null,
   "metadata": {},
   "outputs": [],
   "source": []
  }
 ],
 "metadata": {
  "kernelspec": {
   "display_name": "Python 3.10.5 64-bit",
   "language": "python",
   "name": "python3"
  },
  "language_info": {
   "codemirror_mode": {
    "name": "ipython",
    "version": 3
   },
   "file_extension": ".py",
   "mimetype": "text/x-python",
   "name": "python",
   "nbconvert_exporter": "python",
   "pygments_lexer": "ipython3",
   "version": "3.10.5"
  },
  "vscode": {
   "interpreter": {
    "hash": "ad2117d8da04c720903da65ba8862d63b2fb82849cd17efbeca69c80f28b43db"
   }
  }
 },
 "nbformat": 4,
 "nbformat_minor": 4
}
