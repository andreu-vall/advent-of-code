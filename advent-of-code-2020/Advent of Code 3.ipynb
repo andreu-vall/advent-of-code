{
 "cells": [
  {
   "cell_type": "code",
   "execution_count": 75,
   "metadata": {},
   "outputs": [
    {
     "data": {
      "text/plain": [
       "(2, {1549, 2693, 3539, 3709})"
      ]
     },
     "execution_count": 75,
     "metadata": {},
     "output_type": "execute_result"
    }
   ],
   "source": [
    "from collections import defaultdict, Counter\n",
    "import numpy as np\n",
    "\n",
    "with open(\"input/p20.txt\") as file:\n",
    "    lines = file.read().splitlines()\n",
    "\n",
    "size = len(lines[1])\n",
    "\n",
    "peces, i = {}, 0\n",
    "while i < len(lines):\n",
    "    title = int(lines[i][5:-1])\n",
    "    peça = np.array([list(lines[j]) for j in range(i+1, i+size+1)])\n",
    "    peces[title] = peça\n",
    "    i += size + 2\n",
    "\n",
    "def get_equivalents(board):\n",
    "    return board, np.rot90(board), np.flip(board), np.rot90(board, 3), np.fliplr(board), \\\n",
    "        np.rot90(np.fliplr(board)), np.flipud(board), np.rot90(np.flipud(board))\n",
    "\n",
    "connexions = defaultdict(set)\n",
    "for title, peça in peces.items():\n",
    "    for board in get_equivalents(peça):\n",
    "        connexions[''.join(board[0])].add(title)\n",
    "\n",
    "sola = Counter()\n",
    "maxim = 0\n",
    "for con, pec in connexions.items():\n",
    "    if len(pec)==1:\n",
    "        sola[next(iter(pec))] += 1\n",
    "    maxim = max(maxim, len(pec))\n",
    "\n",
    "puntes = set()\n",
    "for key, value in sola.items():\n",
    "    if value==4:\n",
    "        puntes.add(key)\n",
    "\n",
    "maxim, puntes"
   ]
  },
  {
   "cell_type": "code",
   "execution_count": 86,
   "metadata": {},
   "outputs": [],
   "source": [
    "possibles = {}\n",
    "for key, peça in peces.items():\n",
    "    possibles[key] = []\n",
    "    for board in get_equivalents(peça):\n",
    "        llista = []\n",
    "        for extrem in [board[0], board[:,-1], board[-1], board[:,0]]:\n",
    "            llista.append(''.join(extrem))\n",
    "        possibles[key].append((board, llista))"
   ]
  },
  {
   "cell_type": "code",
   "execution_count": 112,
   "metadata": {},
   "outputs": [],
   "source": [
    "puzzle = [[(0,0) for j in range(12)] for i in range(12)]\n",
    "puzzle[0][0] = (3539, 0)\n",
    "\n",
    "for j in range(1, 12):\n",
    "    key, rot = puzzle[0][j-1]\n",
    "    extrem = possibles[key][rot][1][1]\n",
    "    nova = next(iter(connexions[extrem]-{key}))\n",
    "    for nrot in range(8):\n",
    "        if possibles[nova][nrot][1][3]==extrem:\n",
    "            puzzle[0][j] = (nova, nrot)\n",
    "            break\n",
    "\n",
    "for i in range(1, 12):\n",
    "    for j in range(12):\n",
    "            key, rot = puzzle[i-1][j]\n",
    "            extrem = possibles[key][rot][1][2]\n",
    "            nova = next(iter(connexions[extrem]-{key}))\n",
    "            for nrot in range(8):\n",
    "                if possibles[nova][nrot][1][0]==extrem:\n",
    "                    puzzle[i][j] = (nova, nrot)\n",
    "                    break"
   ]
  },
  {
   "cell_type": "code",
   "execution_count": 127,
   "metadata": {},
   "outputs": [
    {
     "name": "stdout",
     "output_type": "stream",
     "text": [
      "96 96\n"
     ]
    }
   ],
   "source": [
    "imatge = [[] for i in range(12*8)]\n",
    "for i in range(12):\n",
    "    for j in range(12):\n",
    "        key, rot = puzzle[i][j]\n",
    "        peça = possibles[key][rot][0]\n",
    "        for row in range(1, 9):\n",
    "            imatge[8*i+row-1].extend(peça[row][1:9].tolist())\n",
    "\n",
    "print(len(imatge), len(imatge[0]))\n",
    "\n",
    "#print(*[''.join(fila) for fila in imatge], sep=\"\\n\")"
   ]
  },
  {
   "cell_type": "code",
   "execution_count": 147,
   "metadata": {},
   "outputs": [],
   "source": [
    "def monster(imatge, y, x):\n",
    "    for i, j in [(0,18),(1,0),(1,5),(1,6),(1,11),(1,12),(1,17),(1,18),(1,19),(2,1),(2,4),(2,7),(2,10),(2,13),(2,16)]:\n",
    "        y1, x1 = y+i, x+j\n",
    "        if y1 not in range(96) or x1 not in range(96) or imatge[y1][x1]!='#':\n",
    "            return False\n",
    "    return True"
   ]
  },
  {
   "cell_type": "code",
   "execution_count": 153,
   "metadata": {},
   "outputs": [
    {
     "name": "stdout",
     "output_type": "stream",
     "text": [
      "15\n"
     ]
    }
   ],
   "source": [
    "np_image = np.array(imatge)\n",
    "q = 0\n",
    "counter = 0\n",
    "for board in get_equivalents(np_image):\n",
    "    for i in range(96):\n",
    "        for j in range(96):\n",
    "            if monster(board, i, j):\n",
    "                counter += 1\n",
    "    q += 1\n",
    "\n",
    "print(counter)"
   ]
  },
  {
   "cell_type": "code",
   "execution_count": null,
   "metadata": {},
   "outputs": [],
   "source": [
    "\"\"\"\n",
    "                  # \n",
    "#    ##    ##    ###\n",
    " #  #  #  #  #  #   \n",
    "\"\"\""
   ]
  },
  {
   "cell_type": "code",
   "execution_count": 156,
   "metadata": {},
   "outputs": [
    {
     "name": "stdout",
     "output_type": "stream",
     "text": [
      "1692\n"
     ]
    }
   ],
   "source": [
    "total = 0\n",
    "for fila in imatge:\n",
    "    for car in fila:\n",
    "        if car == '#':\n",
    "            total += 1\n",
    "\n",
    "print(total - counter*15)"
   ]
  },
  {
   "cell_type": "code",
   "execution_count": 17,
   "metadata": {},
   "outputs": [
    {
     "name": "stdout",
     "output_type": "stream",
     "text": [
      "thvm,jmdg,qrsczjv,hlmvqh,zmb,mrfxh,ckqq,zrgzf\n"
     ]
    }
   ],
   "source": [
    "with open(\"input/p21.txt\") as file:\n",
    "    lines = file.read().splitlines()\n",
    "\n",
    "ingredients, allergens = [], []\n",
    "tots, possibles = set(), {}\n",
    "\n",
    "for line in lines:\n",
    "    ing, allrg = line.split(\" (contains\")\n",
    "    ing = list(ing.split(\" \"))\n",
    "    allrg = list(allr.strip() for allr in allrg[:-1].split(\",\"))\n",
    "    ingredients.append(ing)\n",
    "    allergens.append(allrg)\n",
    "    tots.update(ing)\n",
    "    for a in allrg:\n",
    "        if a not in possibles:\n",
    "            possibles[a] = set(ing)\n",
    "        else:\n",
    "            possibles[a] = possibles[a].intersection(ing)\n",
    "\n",
    "to_choose = set()\n",
    "triats = []\n",
    "for _ in range(len(possibles)):\n",
    "    for i,s in possibles.items():\n",
    "        if len(s)==1 and i not in to_choose:\n",
    "            ing, cont = i, next(iter(s))\n",
    "            to_choose.add(ing)\n",
    "            triats.append((ing, cont))\n",
    "            break\n",
    "    for i,se in possibles.items():\n",
    "        if cont in se:\n",
    "            se.remove(cont)\n",
    "\n",
    "triats.sort()\n",
    "print(','.join(a[1] for a in triats))"
   ]
  },
  {
   "cell_type": "code",
   "execution_count": 1,
   "metadata": {},
   "outputs": [],
   "source": [
    "class Node:\n",
    "    def __init__(self, value, anterior=None, seguent=None):\n",
    "        self.value = value\n",
    "        if anterior:\n",
    "            anterior.next = self\n",
    "        self.next = seguent\n",
    "\n",
    "class LinkedList: # Linked List per implementar euler senzillament amb cost O(E)\n",
    "    def __init__(self, node):\n",
    "        self.node = node\n",
    "    \n",
    "    def __iter__(self):\n",
    "        self.actual = self.node\n",
    "        return self\n",
    "    \n",
    "    def __next__(self):\n",
    "        if self.actual != None:\n",
    "            value = self.actual.value\n",
    "            self.actual = self.actual.next\n",
    "            return value\n",
    "        raise StopIteration"
   ]
  },
  {
   "cell_type": "code",
   "execution_count": 2,
   "metadata": {},
   "outputs": [
    {
     "name": "stdout",
     "output_type": "stream",
     "text": [
      "29385746\n"
     ]
    }
   ],
   "source": [
    "cups = [str(int(ch)-1) for ch in \"712643589\"]\n",
    "size, current = len(cups), cups[0]\n",
    "\n",
    "for i in range(100):\n",
    "    ind = cups.index(current)\n",
    "    pick_up = cups[ind+1:ind+4] + cups[0:max(0, ind+4-size)]\n",
    "    for n in pick_up:\n",
    "        cups.remove(n)\n",
    "    destination = (int(current)-1) % size\n",
    "    while str(destination) in pick_up:\n",
    "        destination = (destination-1) % size\n",
    "    dest = (cups.index(str(destination)) + 1) % size\n",
    "    for n in reversed(pick_up):\n",
    "        cups.insert(dest, n)\n",
    "    current = cups[(cups.index(current)+1) % size]\n",
    "\n",
    "augm = [str(int(ch)+1) for ch in cups]\n",
    "ind = augm.index(\"1\")\n",
    "print(''.join(augm[ind+1:] + augm[:ind]))"
   ]
  },
  {
   "cell_type": "code",
   "execution_count": 19,
   "metadata": {},
   "outputs": [
    {
     "name": "stdout",
     "output_type": "stream",
     "text": [
      "680435423892\n"
     ]
    }
   ],
   "source": [
    "start = anterior = Node(7)\n",
    "linked = LinkedList(start)\n",
    "positions = {7: start}\n",
    "\n",
    "for ch in \"12643589\":\n",
    "    anterior = Node(int(ch), anterior)\n",
    "    positions[int(ch)] = anterior\n",
    "    if ch=='1':\n",
    "        node1 = anterior\n",
    "\n",
    "for i in range(10, 10**6+1):\n",
    "    anterior = Node(i, anterior)\n",
    "    positions[i] = anterior\n",
    "\n",
    "anterior.next = start\n",
    "start.anterior = anterior\n",
    "\n",
    "position = start\n",
    "for i in range(10**7):\n",
    "    left, right = position.next, position.next.next.next\n",
    "    seguent = right.next\n",
    "    position.next, seguent.anterior = seguent, anterior\n",
    "    triar = position.value-1 if position.value-1 != 0 else 10**6\n",
    "    while triar in [left.value, left.next.value, right.value]:\n",
    "        triar -= 1\n",
    "        if triar == 0:\n",
    "            triar = 10**6\n",
    "    ins_left = positions[triar]\n",
    "    ins_right = ins_left.next\n",
    "    ins_left.next, left.anterior = left, ins_left\n",
    "    ins_right.anterior, right.next = right, ins_right\n",
    "    position = position.next\n",
    "\n",
    "print(node1.next.value * node1.next.next.value)"
   ]
  },
  {
   "cell_type": "code",
   "execution_count": 8,
   "metadata": {},
   "outputs": [
    {
     "data": {
      "text/plain": [
       "4150"
      ]
     },
     "execution_count": 8,
     "metadata": {},
     "output_type": "execute_result"
    }
   ],
   "source": [
    "with open(\"input/p24.txt\") as file:\n",
    "    lines = file.read().splitlines()\n",
    "\n",
    "black = set()\n",
    "\n",
    "for line in lines:\n",
    "    x, y = 0, 0\n",
    "    j = 0\n",
    "    while j < len(line):\n",
    "        i, j = j, j + (2 if line[j] in 'ns' else 1)\n",
    "        ch = line[i:j]\n",
    "        if ch=='e':\n",
    "            x += 1\n",
    "        if ch=='w':\n",
    "            x -= 1\n",
    "        if ch=='ne':\n",
    "            x += 0.5\n",
    "            y += 0.5\n",
    "        if ch=='nw':\n",
    "            x -= 0.5\n",
    "            y += 0.5\n",
    "        if ch=='se':\n",
    "            x += 0.5\n",
    "            y -= 0.5\n",
    "        if ch=='sw':\n",
    "            x -= 0.5\n",
    "            y -= 0.5\n",
    "    if (x, y) not in black:\n",
    "        black.add((x, y))\n",
    "    else:\n",
    "        black.remove((x, y))\n",
    "\n",
    "def adjacents(peça):\n",
    "    for adj in [(1,0),(.5,-.5),(-.5,-.5),(-1,0),(-.5,.5),(.5,.5)]:\n",
    "        yield peça[0]+adj[0], peça[1]+adj[1]\n",
    "\n",
    "for i in range(100):\n",
    "    new_black = black.copy()\n",
    "    for b in black:\n",
    "        suma = sum(adj in black for adj in adjacents(b))\n",
    "        if suma==0 or suma > 2:\n",
    "            new_black.remove(b)\n",
    "        \n",
    "        done = set()\n",
    "        for adj in adjacents(b):\n",
    "            if adj not in black and adj not in done:\n",
    "                done.add(adj)\n",
    "                if sum(adj2 in black for adj2 in adjacents(adj)) == 2:\n",
    "                    new_black.add(adj)\n",
    "    \n",
    "    black = new_black\n",
    "\n",
    "len(black)"
   ]
  },
  {
   "cell_type": "code",
   "execution_count": 15,
   "metadata": {},
   "outputs": [
    {
     "name": "stdout",
     "output_type": "stream",
     "text": [
      "1665442 18474687\n",
      "711945 711945\n"
     ]
    }
   ],
   "source": [
    "n = 11239946\n",
    "m = 10464955\n",
    "\n",
    "def transform(subject, target):\n",
    "    value = 1\n",
    "    i = 0\n",
    "    while True:\n",
    "        value *= subject\n",
    "        value %= 20201227\n",
    "        i += 1\n",
    "        if value == target:\n",
    "            return i\n",
    "\n",
    "def trans2(subject, times):\n",
    "    value = 1\n",
    "    for _ in range(times):\n",
    "        value *= subject\n",
    "        value %= 20201227\n",
    "    return value\n",
    "\n",
    "a = 5764801\n",
    "b = 17807724\n",
    "\n",
    "first = transform(7, n)\n",
    "second = transform(7, m)\n",
    "print(first, second)\n",
    "\n",
    "cosa1 = trans2(n, second)\n",
    "cosa2 = trans2(m, first)\n",
    "print(cosa1, cosa2)"
   ]
  },
  {
   "cell_type": "code",
   "execution_count": null,
   "metadata": {},
   "outputs": [],
   "source": []
  }
 ],
 "metadata": {
  "kernelspec": {
   "display_name": "Python 3",
   "language": "python",
   "name": "python3"
  },
  "language_info": {
   "codemirror_mode": {
    "name": "ipython",
    "version": 3
   },
   "file_extension": ".py",
   "mimetype": "text/x-python",
   "name": "python",
   "nbconvert_exporter": "python",
   "pygments_lexer": "ipython3",
   "version": "3.8.3"
  }
 },
 "nbformat": 4,
 "nbformat_minor": 4
}
