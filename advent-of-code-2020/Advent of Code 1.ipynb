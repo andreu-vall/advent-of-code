{
 "cells": [
  {
   "cell_type": "code",
   "execution_count": 44,
   "metadata": {},
   "outputs": [
    {
     "name": "stdout",
     "output_type": "stream",
     "text": [
      "68348924\n",
      "68348924\n",
      "68348924\n",
      "68348924\n",
      "68348924\n",
      "68348924\n"
     ]
    }
   ],
   "source": [
    "file = open(\"input/p1.txt\", \"r\")\n",
    "numbers = list(map(int, file.readlines()))\n",
    "for n in numbers:\n",
    "    for m in numbers:\n",
    "        for k in numbers:\n",
    "            if n+m+k==2020:\n",
    "                print(n*m*k)"
   ]
  },
  {
   "cell_type": "code",
   "execution_count": 36,
   "metadata": {},
   "outputs": [
    {
     "name": "stdout",
     "output_type": "stream",
     "text": [
      "245\n"
     ]
    }
   ],
   "source": [
    "file = open(\"input/p2.txt\", \"r\")\n",
    "counter = 0\n",
    "\n",
    "for line in file.readlines():\n",
    "    oc, ch, pw = line.split()\n",
    "    ch = ch[0]\n",
    "    pos0, pos1 = map(int, oc.split(\"-\"))\n",
    "    pos0, pos1 = pos0-1, pos1-1\n",
    "    if (pw[pos0]==ch) + (pw[pos1]==ch) == 1:\n",
    "        counter += 1\n",
    "\n",
    "print(counter)"
   ]
  },
  {
   "cell_type": "code",
   "execution_count": 20,
   "metadata": {},
   "outputs": [
    {
     "data": {
      "text/plain": [
       "1574890240"
      ]
     },
     "execution_count": 20,
     "metadata": {},
     "output_type": "execute_result"
    }
   ],
   "source": [
    "mult = 1\n",
    "\n",
    "for i, j in [(1,1), (3,1), (5,1), (7,1), (1,2)]:\n",
    "    file = open(\"input/p3.txt\", \"r\")\n",
    "    counter, pos, mod = 0, 0, 31\n",
    "\n",
    "    for numb, line in enumerate(file.readlines()):\n",
    "        if numb%j == 0:\n",
    "            if line[pos] == '#':\n",
    "                counter += 1\n",
    "            pos = (pos+i) % mod\n",
    "\n",
    "    mult *= counter\n",
    "\n",
    "mult"
   ]
  },
  {
   "cell_type": "code",
   "execution_count": 47,
   "metadata": {},
   "outputs": [
    {
     "data": {
      "text/plain": [
       "186"
      ]
     },
     "execution_count": 47,
     "metadata": {},
     "output_type": "execute_result"
    }
   ],
   "source": [
    "file = open(\"input/p4.txt\", \"r\")\n",
    "counter = 0\n",
    "tags = {}\n",
    "\n",
    "def f(tags):\n",
    "    return all([tag in tags for tag in [\"byr\", \"iyr\", \"eyr\", \"hgt\", \"hcl\", \"ecl\", \"input/pid\"]]) and \\\n",
    "    len(tags[\"byr\"])==4 and int(tags[\"byr\"]) in range(1920, 2003) and \\\n",
    "    len(tags[\"iyr\"])==4 and int(tags[\"iyr\"]) in range(2010, 2021) and \\\n",
    "    len(tags[\"eyr\"])==4 and int(tags[\"eyr\"]) in range(2020, 2031) and \\\n",
    "    ((tags[\"hgt\"].endswith(\"cm\") and int(tags[\"hgt\"][:-2]) in range(150, 194)) or \\\n",
    "     (tags[\"hgt\"].endswith(\"in\") and int(tags[\"hgt\"][:-2]) in range(59, 77))) and \\\n",
    "    tags[\"hcl\"][0]==\"#\" and len(tags[\"hcl\"])==7 and \\\n",
    "    all(ch in \"0123456789abcdef\" for ch in tags[\"hcl\"][1:]) and \\\n",
    "    any(tags[\"ecl\"]==st for st in [\"amb\",\"blu\",\"brn\",\"gry\",\"grn\",\"hzl\",\"oth\"]) and \\\n",
    "    len(tags[\"input/pid\"])==9 and tags[\"input/pid\"].isdigit()\n",
    "\n",
    "for line in file.readlines():\n",
    "    for cosa in line.split():\n",
    "        key, value = cosa.split(\":\")\n",
    "        tags[key] = value\n",
    "    if line == \"\\n\":\n",
    "        if f(tags):\n",
    "            counter += 1\n",
    "        tags = {}\n",
    "        \n",
    "if f(tags):\n",
    "    counter += 1\n",
    "counter"
   ]
  },
  {
   "cell_type": "code",
   "execution_count": 23,
   "metadata": {},
   "outputs": [
    {
     "name": "stdout",
     "output_type": "stream",
     "text": [
      "629\n"
     ]
    }
   ],
   "source": [
    "file = open(\"input/p5.txt\", \"r\")\n",
    "seients = []\n",
    "\n",
    "for line in file.readlines():\n",
    "    row_b = line[:7].replace(\"F\", \"0\").replace(\"B\", \"1\")\n",
    "    row = int(row_b, 2)\n",
    "    col_b = line[7:10].replace(\"L\", \"0\").replace(\"R\", \"1\")\n",
    "    col = int(col_b, 2)\n",
    "    value = 8*row + col\n",
    "    seients.append(value)\n",
    "\n",
    "seients.sort()\n",
    "se = set(seients)\n",
    "for i in range(seients[0], seients[-1]+1):\n",
    "    if i not in se:\n",
    "        print(i)"
   ]
  },
  {
   "cell_type": "code",
   "execution_count": 12,
   "metadata": {},
   "outputs": [
    {
     "data": {
      "text/plain": [
       "3489"
      ]
     },
     "execution_count": 12,
     "metadata": {},
     "output_type": "execute_result"
    }
   ],
   "source": [
    "file = open(\"input/p6.txt\")\n",
    "counter = 0\n",
    "yes = set('abcdefghijklmnopqrstuvwxyz')\n",
    "\n",
    "for line in file.readlines():\n",
    "    line = line.strip()\n",
    "    if line:\n",
    "        yes = yes.intersection(set(line))\n",
    "    else:\n",
    "        counter += len(yes)\n",
    "        yes = set('abcdefghijklmnopqrstuvwxyz')\n",
    "\n",
    "counter += len(yes)\n",
    "counter"
   ]
  },
  {
   "cell_type": "code",
   "execution_count": 78,
   "metadata": {},
   "outputs": [
    {
     "name": "stdout",
     "output_type": "stream",
     "text": [
      "300\n"
     ]
    }
   ],
   "source": [
    "import collections\n",
    "\n",
    "file = open(\"input/p7.txt\")\n",
    "bags = collections.defaultdict(set)\n",
    "can_be_in = collections.defaultdict(set)\n",
    "\n",
    "for line in file.readlines():\n",
    "    bag, line = line.split(\" bags contain \")\n",
    "    if not line.endswith(\"no other bags.\\n\"):\n",
    "        for item in line.split(\",\"):\n",
    "            item = item.strip()\n",
    "            what = item[2:item.rfind(\" \")]\n",
    "            bags[bag].add((what, int(item[0])))\n",
    "            can_be_in[what].add(bag)\n",
    "\n",
    "possibles, nous = set(), {\"shiny gold\"}\n",
    "while nous:\n",
    "    possibles.update(nous)\n",
    "    next_nou = set()\n",
    "    for nou in nous:\n",
    "        for item in can_be_in[nou]:\n",
    "            if item not in possibles:\n",
    "                next_nou.add(item)\n",
    "    nous = next_nou\n",
    "    \n",
    "print(len(possibles)-1)"
   ]
  },
  {
   "cell_type": "code",
   "execution_count": 82,
   "metadata": {},
   "outputs": [
    {
     "data": {
      "text/plain": [
       "8030"
      ]
     },
     "execution_count": 82,
     "metadata": {},
     "output_type": "execute_result"
    }
   ],
   "source": [
    "def f(entry, dic):\n",
    "    if not dic[entry]:\n",
    "        return 1\n",
    "    return 1 + sum(cosa[1] * f(cosa[0], dic) for cosa in dic[entry])\n",
    "\n",
    "f(\"shiny gold\", bags)-1"
   ]
  },
  {
   "cell_type": "code",
   "execution_count": 14,
   "metadata": {},
   "outputs": [
    {
     "name": "stdout",
     "output_type": "stream",
     "text": [
      "163\n"
     ]
    },
    {
     "data": {
      "text/plain": [
       "1489"
      ]
     },
     "execution_count": 14,
     "metadata": {},
     "output_type": "execute_result"
    }
   ],
   "source": [
    "file = open(\"input/p8.txt\")\n",
    "lines = [line.split(\" \") for line in file.read().splitlines()]\n",
    "\n",
    "visited = set()\n",
    "last = 0\n",
    "acc = 0\n",
    "\n",
    "while last not in visited:\n",
    "    visited.add(last)\n",
    "    ent = int(lines[last][1])\n",
    "    if lines[last][0] == \"acc\":\n",
    "        acc += ent\n",
    "        last += 1\n",
    "    elif lines[last][0] == \"nop\":\n",
    "        last += 1\n",
    "    else:\n",
    "        last += ent\n",
    "\n",
    "print(last)\n",
    "acc"
   ]
  },
  {
   "cell_type": "code",
   "execution_count": 39,
   "metadata": {},
   "outputs": [
    {
     "name": "stdout",
     "output_type": "stream",
     "text": [
      "1539\n"
     ]
    }
   ],
   "source": [
    "import copy\n",
    "\n",
    "file = open(\"input/p8.txt\")\n",
    "lines_or = [line.split(\" \") for line in file.read().splitlines()]\n",
    "\n",
    "for i in range(len(lines_or)):\n",
    "    \n",
    "    if lines_or[i][0] == \"acc\":\n",
    "        continue\n",
    "    \n",
    "    lines = copy.deepcopy(lines_or)\n",
    "    \n",
    "    if lines[i][0] == \"nop\":\n",
    "        lines[i][0] = \"jmp\"\n",
    "    else:\n",
    "        lines[i][0] = \"nop\"\n",
    "\n",
    "    visited = set()\n",
    "    last = 0\n",
    "    acc = 0\n",
    "\n",
    "    while last not in visited:\n",
    "        if last >= len(lines):\n",
    "            break\n",
    "        visited.add(last)\n",
    "        ent = int(lines[last][1])\n",
    "        if lines[last][0] == \"acc\":\n",
    "            acc += ent\n",
    "            last += 1\n",
    "        elif lines[last][0] == \"nop\":\n",
    "            last += 1\n",
    "        else:\n",
    "            last += ent\n",
    "    \n",
    "    if last >= len(lines):\n",
    "        print(acc)"
   ]
  },
  {
   "cell_type": "code",
   "execution_count": 12,
   "metadata": {},
   "outputs": [
    {
     "name": "stdout",
     "output_type": "stream",
     "text": [
      "41682220\n"
     ]
    }
   ],
   "source": [
    "file = open(\"input/p9.txt\")\n",
    "last = []\n",
    "\n",
    "for line in file.read().splitlines():\n",
    "    number = int(line)\n",
    "    if len(last) < 25:\n",
    "        last.append(number)\n",
    "    else:\n",
    "        passa = False\n",
    "        for i in last:\n",
    "            for j in last:\n",
    "                if i+j == number:\n",
    "                    passa = True\n",
    "                    break\n",
    "            if passa == True:\n",
    "                break\n",
    "        if not passa:\n",
    "            print(number)\n",
    "            break\n",
    "        del last[0]\n",
    "        last.append(number)"
   ]
  },
  {
   "cell_type": "code",
   "execution_count": 13,
   "metadata": {},
   "outputs": [
    {
     "name": "stdout",
     "output_type": "stream",
     "text": [
      "421 2603943\n",
      "539 41682220\n"
     ]
    }
   ],
   "source": [
    "file = open(\"input/p9.txt\")\n",
    "number = 41682220\n",
    "sumes = []\n",
    "\n",
    "for line in file.read().splitlines():\n",
    "    n = int(line)\n",
    "    sumes.append(0)\n",
    "    for i in range(len(sumes)):\n",
    "        sumes[i] += n\n",
    "        if sumes[i] == number:\n",
    "            print(i, line)\n",
    "            break"
   ]
  },
  {
   "cell_type": "code",
   "execution_count": 15,
   "metadata": {},
   "outputs": [],
   "source": [
    "file = open(\"input/p9.txt\")\n",
    "numbers = list(map(int, file.read().splitlines()))"
   ]
  },
  {
   "cell_type": "code",
   "execution_count": 20,
   "metadata": {},
   "outputs": [
    {
     "name": "stdout",
     "output_type": "stream",
     "text": [
      "5388976\n"
     ]
    }
   ],
   "source": [
    "print(max(numbers[421:438])+min(numbers[421:438]))"
   ]
  },
  {
   "cell_type": "code",
   "execution_count": 61,
   "metadata": {},
   "outputs": [
    {
     "name": "stdout",
     "output_type": "stream",
     "text": [
      "2263\n"
     ]
    }
   ],
   "source": [
    "file = open(\"input/p10.txt\")\n",
    "adapters = sorted(map(int, file.read().splitlines()))\n",
    "contigus = 1\n",
    "tres = 1\n",
    "\n",
    "for i in range(len(adapters)-1):\n",
    "    if adapters[i+1]-adapters[i] == 1:\n",
    "        contigus += 1\n",
    "    elif adapters[i+1]-adapters[i] == 3:\n",
    "        tres += 1\n",
    "\n",
    "print(contigus * tres)\n",
    "\n",
    "adapters.insert(0, 0)\n",
    "adapters.append(adapters[-1]+3)"
   ]
  },
  {
   "cell_type": "code",
   "execution_count": 62,
   "metadata": {
    "scrolled": true
   },
   "outputs": [
    {
     "data": {
      "text/plain": [
       "396857386627072"
      ]
     },
     "execution_count": 62,
     "metadata": {},
     "output_type": "execute_result"
    }
   ],
   "source": [
    "anteriors = [1] + [0]*(len(adapters)-1)\n",
    "\n",
    "for i in range(1, len(adapters)):\n",
    "    for j in [i-1, i-2, i-3]:\n",
    "        if j >= 0:\n",
    "            dif = adapters[i]-adapters[j]\n",
    "            if dif <= 3:\n",
    "                anteriors[i] += anteriors[j]\n",
    "\n",
    "anteriors[-1]"
   ]
  }
 ],
 "metadata": {
  "kernelspec": {
   "display_name": "Python 3.10.5 64-bit",
   "language": "python",
   "name": "python3"
  },
  "language_info": {
   "codemirror_mode": {
    "name": "ipython",
    "version": 3
   },
   "file_extension": ".py",
   "mimetype": "text/x-python",
   "name": "python",
   "nbconvert_exporter": "python",
   "pygments_lexer": "ipython3",
   "version": "3.10.5"
  },
  "vscode": {
   "interpreter": {
    "hash": "ad2117d8da04c720903da65ba8862d63b2fb82849cd17efbeca69c80f28b43db"
   }
  }
 },
 "nbformat": 4,
 "nbformat_minor": 4
}
